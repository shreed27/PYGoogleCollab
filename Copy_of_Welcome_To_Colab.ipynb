{
  "cells": [
    {
      "cell_type": "markdown",
      "metadata": {
        "id": "view-in-github",
        "colab_type": "text"
      },
      "source": [
        "<a href=\"https://colab.research.google.com/github/shreed27/PYGoogleCollab/blob/main/Copy_of_Welcome_To_Colab.ipynb\" target=\"_parent\"><img src=\"https://colab.research.google.com/assets/colab-badge.svg\" alt=\"Open In Colab\"/></a>"
      ]
    },
    {
      "cell_type": "markdown",
      "source": [
        "# IIT ROPAR MINOR IN AI"
      ],
      "metadata": {
        "id": "pA8LNhiwbuj3"
      }
    },
    {
      "cell_type": "markdown",
      "source": [
        "##SPEAKING OT CODING LANGUAGE 1"
      ],
      "metadata": {
        "id": "7XWzFheDcCY0"
      }
    },
    {
      "cell_type": "code",
      "source": [
        " print(\"Hi Shreed This Side\") #String = Bunch of characters written between quotes that will be copied as same written"
      ],
      "metadata": {
        "id": "BS1g4y68kBFX",
        "outputId": "05a55560-b87f-4919-cbec-17dc5c6484c8",
        "colab": {
          "base_uri": "https://localhost:8080/"
        }
      },
      "execution_count": null,
      "outputs": [
        {
          "output_type": "stream",
          "name": "stdout",
          "text": [
            "Hi Shreed This Side\n"
          ]
        }
      ]
    },
    {
      "cell_type": "code",
      "source": [
        "print(66*69)"
      ],
      "metadata": {
        "id": "5iLCMIQgknRl",
        "outputId": "1753fc98-cb3a-426d-d94e-ceaeecbd2ef2",
        "colab": {
          "base_uri": "https://localhost:8080/"
        }
      },
      "execution_count": null,
      "outputs": [
        {
          "output_type": "stream",
          "name": "stdout",
          "text": [
            "4554\n"
          ]
        }
      ]
    },
    {
      "cell_type": "code",
      "source": [
        "print(\"HEyy How you doinn,\", \"whtsup baby\")"
      ],
      "metadata": {
        "id": "J7Za3zN7lVc1",
        "outputId": "410fe5e0-e249-4ce2-e678-4a963ebb734f",
        "colab": {
          "base_uri": "https://localhost:8080/"
        }
      },
      "execution_count": null,
      "outputs": [
        {
          "output_type": "stream",
          "name": "stdout",
          "text": [
            "HEyy How you doinn, whtsup baby\n"
          ]
        }
      ]
    },
    {
      "cell_type": "code",
      "source": [
        "# variables = numbers most probabm\n",
        "\n",
        "x = 69\n",
        "y = 69\n",
        "print(x+y)\n",
        "print(x*y)"
      ],
      "metadata": {
        "id": "jjVU3nOfl2Cn",
        "outputId": "696485f5-c2a4-40cc-8d28-0ac75f3fbdf8",
        "colab": {
          "base_uri": "https://localhost:8080/"
        }
      },
      "execution_count": null,
      "outputs": [
        {
          "output_type": "stream",
          "name": "stdout",
          "text": [
            "138\n",
            "4761\n"
          ]
        }
      ]
    },
    {
      "cell_type": "markdown",
      "source": [
        "#Basic data types\n",
        "Integer\n",
        "float\n",
        "string\n",
        "Boolean"
      ],
      "metadata": {
        "id": "vWzmYg2CuR32"
      }
    },
    {
      "cell_type": "code",
      "source": [
        "#integer\n",
        "x = 369\n",
        "print(x)\n",
        "print(type(x))"
      ],
      "metadata": {
        "id": "G5aoW-yHuZmn",
        "outputId": "ed32d08d-9718-4f98-ba96-20c3757fd668",
        "colab": {
          "base_uri": "https://localhost:8080/"
        }
      },
      "execution_count": null,
      "outputs": [
        {
          "output_type": "stream",
          "name": "stdout",
          "text": [
            "369\n",
            "<class 'int'>\n"
          ]
        }
      ]
    },
    {
      "cell_type": "code",
      "source": [
        "#float\n",
        "y = 369.01\n",
        "print(y)\n",
        "print(type(y))"
      ],
      "metadata": {
        "id": "NCS9NSHgutMJ",
        "outputId": "3860bc65-26fb-4cd7-8a29-1444ef37ef87",
        "colab": {
          "base_uri": "https://localhost:8080/"
        }
      },
      "execution_count": null,
      "outputs": [
        {
          "output_type": "stream",
          "name": "stdout",
          "text": [
            "369.01\n",
            "<class 'float'>\n"
          ]
        }
      ]
    },
    {
      "cell_type": "code",
      "source": [
        "#string\n",
        "z = \"369\"\n",
        "print(z)\n",
        "print(type(z))"
      ],
      "metadata": {
        "id": "Nn3raImwvOR1",
        "outputId": "800f693e-902d-4645-f157-f5d50d0ffb1e",
        "colab": {
          "base_uri": "https://localhost:8080/"
        }
      },
      "execution_count": null,
      "outputs": [
        {
          "output_type": "stream",
          "name": "stdout",
          "text": [
            "369\n",
            "<class 'str'>\n"
          ]
        }
      ]
    },
    {
      "cell_type": "code",
      "source": [
        "#boolean\n",
        "a = True\n",
        "print(a)\n",
        "print(type(a))\n"
      ],
      "metadata": {
        "id": "2h94hEISvdej",
        "outputId": "6136a54b-616e-4ada-a838-cd2a2637b1d6",
        "colab": {
          "base_uri": "https://localhost:8080/"
        }
      },
      "execution_count": null,
      "outputs": [
        {
          "output_type": "stream",
          "name": "stdout",
          "text": [
            "True\n",
            "<class 'bool'>\n"
          ]
        }
      ]
    },
    {
      "cell_type": "markdown",
      "source": [
        "#Arithmetic operation\n"
      ],
      "metadata": {
        "id": "gljfI5VIwrGD"
      }
    },
    {
      "cell_type": "code",
      "source": [
        "\n",
        "\n",
        "print(3+3)\n",
        "print(3*3)\n",
        "print(3/3)\n",
        "print(3-3)\n",
        "print(3//3)\n",
        "print(3%3)\n",
        "print(3**3)\n"
      ],
      "metadata": {
        "id": "3ZtRVWwtv2Tw",
        "outputId": "8fd7050c-cfbd-4a7a-dddb-99b1c5473836",
        "colab": {
          "base_uri": "https://localhost:8080/"
        }
      },
      "execution_count": null,
      "outputs": [
        {
          "output_type": "stream",
          "name": "stdout",
          "text": [
            "6\n",
            "9\n",
            "1.0\n",
            "0\n",
            "1\n",
            "0\n",
            "27\n"
          ]
        }
      ]
    },
    {
      "cell_type": "markdown",
      "source": [
        "#Logical operation"
      ],
      "metadata": {
        "id": "cwnQeFqjxDxE"
      }
    },
    {
      "cell_type": "code",
      "source": [
        "# and = true when both are true\n",
        "print(True and True)"
      ],
      "metadata": {
        "id": "ys7W_4AdxIOB",
        "outputId": "4414b20b-c6bd-4bf4-e8d7-7363bcb4dd72",
        "colab": {
          "base_uri": "https://localhost:8080/"
        }
      },
      "execution_count": null,
      "outputs": [
        {
          "output_type": "stream",
          "name": "stdout",
          "text": [
            "True\n"
          ]
        }
      ]
    },
    {
      "cell_type": "code",
      "source": [
        "# or = true when one of them is true\n",
        "print(True or False)"
      ],
      "metadata": {
        "id": "PScl_1wsxcrp",
        "outputId": "0461eda9-977c-4adb-875b-4c5d2d3652f2",
        "colab": {
          "base_uri": "https://localhost:8080/"
        }
      },
      "execution_count": null,
      "outputs": [
        {
          "output_type": "stream",
          "name": "stdout",
          "text": [
            "True\n"
          ]
        }
      ]
    },
    {
      "cell_type": "code",
      "source": [
        "# not = negaTION\n",
        "print(not True)"
      ],
      "metadata": {
        "id": "IS3dZVrVxjyT",
        "outputId": "6cb4b345-1724-46f1-c4c9-52280f63fd16",
        "colab": {
          "base_uri": "https://localhost:8080/"
        }
      },
      "execution_count": null,
      "outputs": [
        {
          "output_type": "stream",
          "name": "stdout",
          "text": [
            "False\n"
          ]
        }
      ]
    },
    {
      "cell_type": "markdown",
      "source": [],
      "metadata": {
        "id": "YPmMCm3VyYwR"
      }
    },
    {
      "cell_type": "markdown",
      "source": [
        "## Speaking coding language 2"
      ],
      "metadata": {
        "id": "ObFiug8FyZKc"
      }
    }
  ],
  "metadata": {
    "colab": {
      "toc_visible": true,
      "provenance": [],
      "include_colab_link": true
    },
    "kernelspec": {
      "display_name": "Python 3",
      "name": "python3"
    }
  },
  "nbformat": 4,
  "nbformat_minor": 0
}